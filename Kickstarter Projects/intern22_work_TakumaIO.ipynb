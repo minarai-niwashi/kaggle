{
 "cells": [
  {
   "cell_type": "code",
   "execution_count": 1,
   "metadata": {},
   "outputs": [],
   "source": [
    "import pandas as pd\n",
    "import matplotlib.pyplot as plt\n",
    "import seaborn as sns\n",
    "%matplotlib inline"
   ]
  },
  {
   "cell_type": "code",
   "execution_count": 2,
   "metadata": {},
   "outputs": [],
   "source": [
    "#.csvデータの読み込み\n",
    "df = pd.read_csv(\"./../data/ks-projects-201801.csv\")"
   ]
  },
  {
   "cell_type": "code",
   "execution_count": 3,
   "metadata": {
    "scrolled": true
   },
   "outputs": [
    {
     "data": {
      "text/html": [
       "<div>\n",
       "<style scoped>\n",
       "    .dataframe tbody tr th:only-of-type {\n",
       "        vertical-align: middle;\n",
       "    }\n",
       "\n",
       "    .dataframe tbody tr th {\n",
       "        vertical-align: top;\n",
       "    }\n",
       "\n",
       "    .dataframe thead th {\n",
       "        text-align: right;\n",
       "    }\n",
       "</style>\n",
       "<table border=\"1\" class=\"dataframe\">\n",
       "  <thead>\n",
       "    <tr style=\"text-align: right;\">\n",
       "      <th></th>\n",
       "      <th>ID</th>\n",
       "      <th>name</th>\n",
       "      <th>category</th>\n",
       "      <th>main_category</th>\n",
       "      <th>currency</th>\n",
       "      <th>deadline</th>\n",
       "      <th>goal</th>\n",
       "      <th>launched</th>\n",
       "      <th>pledged</th>\n",
       "      <th>state</th>\n",
       "      <th>backers</th>\n",
       "      <th>country</th>\n",
       "      <th>usd pledged</th>\n",
       "      <th>usd_pledged_real</th>\n",
       "      <th>usd_goal_real</th>\n",
       "    </tr>\n",
       "  </thead>\n",
       "  <tbody>\n",
       "    <tr>\n",
       "      <th>0</th>\n",
       "      <td>1000002330</td>\n",
       "      <td>The Songs of Adelaide &amp; Abullah</td>\n",
       "      <td>Poetry</td>\n",
       "      <td>Publishing</td>\n",
       "      <td>GBP</td>\n",
       "      <td>2015-10-09</td>\n",
       "      <td>1000.0</td>\n",
       "      <td>2015-08-11 12:12:28</td>\n",
       "      <td>0.0</td>\n",
       "      <td>failed</td>\n",
       "      <td>0</td>\n",
       "      <td>GB</td>\n",
       "      <td>0.0</td>\n",
       "      <td>0.0</td>\n",
       "      <td>1533.95</td>\n",
       "    </tr>\n",
       "    <tr>\n",
       "      <th>1</th>\n",
       "      <td>1000003930</td>\n",
       "      <td>Greeting From Earth: ZGAC Arts Capsule For ET</td>\n",
       "      <td>Narrative Film</td>\n",
       "      <td>Film &amp; Video</td>\n",
       "      <td>USD</td>\n",
       "      <td>2017-11-01</td>\n",
       "      <td>30000.0</td>\n",
       "      <td>2017-09-02 04:43:57</td>\n",
       "      <td>2421.0</td>\n",
       "      <td>failed</td>\n",
       "      <td>15</td>\n",
       "      <td>US</td>\n",
       "      <td>100.0</td>\n",
       "      <td>2421.0</td>\n",
       "      <td>30000.00</td>\n",
       "    </tr>\n",
       "    <tr>\n",
       "      <th>2</th>\n",
       "      <td>1000004038</td>\n",
       "      <td>Where is Hank?</td>\n",
       "      <td>Narrative Film</td>\n",
       "      <td>Film &amp; Video</td>\n",
       "      <td>USD</td>\n",
       "      <td>2013-02-26</td>\n",
       "      <td>45000.0</td>\n",
       "      <td>2013-01-12 00:20:50</td>\n",
       "      <td>220.0</td>\n",
       "      <td>failed</td>\n",
       "      <td>3</td>\n",
       "      <td>US</td>\n",
       "      <td>220.0</td>\n",
       "      <td>220.0</td>\n",
       "      <td>45000.00</td>\n",
       "    </tr>\n",
       "    <tr>\n",
       "      <th>3</th>\n",
       "      <td>1000007540</td>\n",
       "      <td>ToshiCapital Rekordz Needs Help to Complete Album</td>\n",
       "      <td>Music</td>\n",
       "      <td>Music</td>\n",
       "      <td>USD</td>\n",
       "      <td>2012-04-16</td>\n",
       "      <td>5000.0</td>\n",
       "      <td>2012-03-17 03:24:11</td>\n",
       "      <td>1.0</td>\n",
       "      <td>failed</td>\n",
       "      <td>1</td>\n",
       "      <td>US</td>\n",
       "      <td>1.0</td>\n",
       "      <td>1.0</td>\n",
       "      <td>5000.00</td>\n",
       "    </tr>\n",
       "    <tr>\n",
       "      <th>4</th>\n",
       "      <td>1000011046</td>\n",
       "      <td>Community Film Project: The Art of Neighborhoo...</td>\n",
       "      <td>Film &amp; Video</td>\n",
       "      <td>Film &amp; Video</td>\n",
       "      <td>USD</td>\n",
       "      <td>2015-08-29</td>\n",
       "      <td>19500.0</td>\n",
       "      <td>2015-07-04 08:35:03</td>\n",
       "      <td>1283.0</td>\n",
       "      <td>canceled</td>\n",
       "      <td>14</td>\n",
       "      <td>US</td>\n",
       "      <td>1283.0</td>\n",
       "      <td>1283.0</td>\n",
       "      <td>19500.00</td>\n",
       "    </tr>\n",
       "  </tbody>\n",
       "</table>\n",
       "</div>"
      ],
      "text/plain": [
       "           ID                                               name  \\\n",
       "0  1000002330                    The Songs of Adelaide & Abullah   \n",
       "1  1000003930      Greeting From Earth: ZGAC Arts Capsule For ET   \n",
       "2  1000004038                                     Where is Hank?   \n",
       "3  1000007540  ToshiCapital Rekordz Needs Help to Complete Album   \n",
       "4  1000011046  Community Film Project: The Art of Neighborhoo...   \n",
       "\n",
       "         category main_category currency    deadline     goal  \\\n",
       "0          Poetry    Publishing      GBP  2015-10-09   1000.0   \n",
       "1  Narrative Film  Film & Video      USD  2017-11-01  30000.0   \n",
       "2  Narrative Film  Film & Video      USD  2013-02-26  45000.0   \n",
       "3           Music         Music      USD  2012-04-16   5000.0   \n",
       "4    Film & Video  Film & Video      USD  2015-08-29  19500.0   \n",
       "\n",
       "              launched  pledged     state  backers country  usd pledged  \\\n",
       "0  2015-08-11 12:12:28      0.0    failed        0      GB          0.0   \n",
       "1  2017-09-02 04:43:57   2421.0    failed       15      US        100.0   \n",
       "2  2013-01-12 00:20:50    220.0    failed        3      US        220.0   \n",
       "3  2012-03-17 03:24:11      1.0    failed        1      US          1.0   \n",
       "4  2015-07-04 08:35:03   1283.0  canceled       14      US       1283.0   \n",
       "\n",
       "   usd_pledged_real  usd_goal_real  \n",
       "0               0.0        1533.95  \n",
       "1            2421.0       30000.00  \n",
       "2             220.0       45000.00  \n",
       "3               1.0        5000.00  \n",
       "4            1283.0       19500.00  "
      ]
     },
     "execution_count": 3,
     "metadata": {},
     "output_type": "execute_result"
    }
   ],
   "source": [
    "data = df\n",
    "data.head()"
   ]
  },
  {
   "cell_type": "code",
   "execution_count": 4,
   "metadata": {},
   "outputs": [],
   "source": [
    "# \"ID\"列をDataFrameのインデックスにする\n",
    "data.set_index(keys=\"ID\", inplace=True)\n",
    "# \"name\"列を削除\n",
    "data.drop(columns=[\"name\"], inplace=True)"
   ]
  },
  {
   "cell_type": "code",
   "execution_count": 5,
   "metadata": {
    "scrolled": true
   },
   "outputs": [
    {
     "data": {
      "text/plain": [
       "(378661, 13)"
      ]
     },
     "metadata": {},
     "output_type": "display_data"
    },
    {
     "data": {
      "text/plain": [
       "Index(['category', 'main_category', 'currency', 'deadline', 'goal', 'launched',\n",
       "       'pledged', 'state', 'backers', 'country', 'usd pledged',\n",
       "       'usd_pledged_real', 'usd_goal_real'],\n",
       "      dtype='object')"
      ]
     },
     "metadata": {},
     "output_type": "display_data"
    }
   ],
   "source": [
    "# DataFrameの行数、列数\n",
    "display(data.shape)\n",
    "# 列名\n",
    "display(data.columns)"
   ]
  },
  {
   "cell_type": "code",
   "execution_count": 6,
   "metadata": {
    "scrolled": true
   },
   "outputs": [
    {
     "name": "stdout",
     "output_type": "stream",
     "text": [
      "<class 'pandas.core.frame.DataFrame'>\n",
      "Int64Index: 378661 entries, 1000002330 to 999988282\n",
      "Data columns (total 13 columns):\n",
      "category            378661 non-null object\n",
      "main_category       378661 non-null object\n",
      "currency            378661 non-null object\n",
      "deadline            378661 non-null object\n",
      "goal                378661 non-null float64\n",
      "launched            378661 non-null object\n",
      "pledged             378661 non-null float64\n",
      "state               378661 non-null object\n",
      "backers             378661 non-null int64\n",
      "country             378661 non-null object\n",
      "usd pledged         374864 non-null float64\n",
      "usd_pledged_real    378661 non-null float64\n",
      "usd_goal_real       378661 non-null float64\n",
      "dtypes: float64(5), int64(1), object(7)\n",
      "memory usage: 40.4+ MB\n"
     ]
    }
   ],
   "source": [
    "data.info()"
   ]
  },
  {
   "cell_type": "code",
   "execution_count": 7,
   "metadata": {
    "scrolled": true
   },
   "outputs": [
    {
     "data": {
      "text/plain": [
       "category               0\n",
       "main_category          0\n",
       "currency               0\n",
       "deadline               0\n",
       "goal                   0\n",
       "launched               0\n",
       "pledged                0\n",
       "state                  0\n",
       "backers                0\n",
       "country                0\n",
       "usd pledged         3797\n",
       "usd_pledged_real       0\n",
       "usd_goal_real          0\n",
       "dtype: int64"
      ]
     },
     "execution_count": 7,
     "metadata": {},
     "output_type": "execute_result"
    }
   ],
   "source": [
    "#欠損値の数を数える\n",
    "data.isnull().sum()"
   ]
  },
  {
   "cell_type": "code",
   "execution_count": 8,
   "metadata": {},
   "outputs": [],
   "source": [
    "#欠損値のある行を削除\n",
    "data.dropna(inplace=True)"
   ]
  },
  {
   "cell_type": "code",
   "execution_count": 9,
   "metadata": {
    "scrolled": true
   },
   "outputs": [
    {
     "data": {
      "text/plain": [
       "category            0\n",
       "main_category       0\n",
       "currency            0\n",
       "deadline            0\n",
       "goal                0\n",
       "launched            0\n",
       "pledged             0\n",
       "state               0\n",
       "backers             0\n",
       "country             0\n",
       "usd pledged         0\n",
       "usd_pledged_real    0\n",
       "usd_goal_real       0\n",
       "dtype: int64"
      ]
     },
     "execution_count": 9,
     "metadata": {},
     "output_type": "execute_result"
    }
   ],
   "source": [
    "data.isnull().sum()"
   ]
  },
  {
   "cell_type": "code",
   "execution_count": 10,
   "metadata": {
    "scrolled": false
   },
   "outputs": [
    {
     "data": {
      "text/plain": [
       "failed        0.527162\n",
       "successful    0.357065\n",
       "canceled      0.103389\n",
       "live          0.007464\n",
       "suspended     0.004919\n",
       "Name: state, dtype: float64"
      ]
     },
     "execution_count": 10,
     "metadata": {},
     "output_type": "execute_result"
    }
   ],
   "source": [
    "#目的変数の内訳\n",
    "data[\"state\"].value_counts(normalize=True)"
   ]
  },
  {
   "cell_type": "code",
   "execution_count": 11,
   "metadata": {},
   "outputs": [],
   "source": [
    "#　\"canceled\", \"live\", \"suspend\"のデータ数が少ないので, 成功or失敗を識別するモデルを作成する\n",
    "# \"canceled\", \"live\", \"suspend\"行の削除\n",
    "data = data[(data.state == \"failed\") | (data.state == \"successful\")]"
   ]
  },
  {
   "cell_type": "code",
   "execution_count": 12,
   "metadata": {
    "scrolled": false
   },
   "outputs": [
    {
     "data": {
      "text/plain": [
       "failed        0.596184\n",
       "successful    0.403816\n",
       "Name: state, dtype: float64"
      ]
     },
     "execution_count": 12,
     "metadata": {},
     "output_type": "execute_result"
    }
   ],
   "source": [
    "data[\"state\"].value_counts(normalize=True)"
   ]
  },
  {
   "cell_type": "code",
   "execution_count": 13,
   "metadata": {
    "scrolled": false
   },
   "outputs": [
    {
     "name": "stderr",
     "output_type": "stream",
     "text": [
      "/Users/imlab/anaconda3/envs/skillupAI/lib/python3.7/site-packages/pandas/core/frame.py:3940: SettingWithCopyWarning: \n",
      "A value is trying to be set on a copy of a slice from a DataFrame\n",
      "\n",
      "See the caveats in the documentation: http://pandas.pydata.org/pandas-docs/stable/indexing.html#indexing-view-versus-copy\n",
      "  errors=errors)\n"
     ]
    }
   ],
   "source": [
    "# \"pledged\", \"usd pledged\", \"usd_pledged_real\"は、事前に知ることができないデータであり学習に使えないので削除\n",
    "data.drop(columns=[\"pledged\", \"usd pledged\", \"usd_pledged_real\"], inplace=True)"
   ]
  },
  {
   "cell_type": "code",
   "execution_count": 14,
   "metadata": {
    "scrolled": true
   },
   "outputs": [
    {
     "data": {
      "text/plain": [
       "state       country\n",
       "failed      US         0.769485\n",
       "            GB         0.087985\n",
       "            CA         0.041677\n",
       "            AU         0.023308\n",
       "            DE         0.012646\n",
       "            IT         0.009767\n",
       "            NL         0.009078\n",
       "            FR         0.008157\n",
       "            ES         0.006988\n",
       "            MX         0.005136\n",
       "            SE         0.005060\n",
       "            NZ         0.004180\n",
       "            DK         0.002864\n",
       "            IE         0.002409\n",
       "            CH         0.002353\n",
       "            NO         0.002125\n",
       "            AT         0.001913\n",
       "            BE         0.001877\n",
       "            SG         0.001397\n",
       "            HK         0.001321\n",
       "            LU         0.000192\n",
       "            JP         0.000081\n",
       "successful  US         0.816572\n",
       "            GB         0.090152\n",
       "            CA         0.030885\n",
       "            AU         0.015017\n",
       "            DE         0.007000\n",
       "            FR         0.006784\n",
       "            NL         0.004610\n",
       "            SE         0.003803\n",
       "            ES         0.003676\n",
       "            NZ         0.003347\n",
       "            IT         0.003280\n",
       "            MX         0.002959\n",
       "            DK         0.002690\n",
       "            HK         0.001614\n",
       "            IE         0.001546\n",
       "            CH         0.001397\n",
       "            SG         0.001330\n",
       "            NO         0.001210\n",
       "            BE         0.001136\n",
       "            AT         0.000799\n",
       "            LU         0.000142\n",
       "            JP         0.000052\n",
       "Name: country, dtype: float64"
      ]
     },
     "metadata": {},
     "output_type": "display_data"
    },
    {
     "data": {
      "image/png": "[encoded data removed]",
      "text/plain": [
       "<Figure size 432x288 with 1 Axes>"
      ]
     },
     "metadata": {
      "needs_background": "light"
     },
     "output_type": "display_data"
    }
   ],
   "source": [
    "# 成功, 失敗別の国の内訳の可視化\n",
    "ret = data.groupby(\"state\")[\"country\"].value_counts(normalize=True)\n",
    "display(ret)\n",
    "ret.unstack().plot.bar()\n",
    "plt.show()"
   ]
  },
  {
   "cell_type": "code",
   "execution_count": 15,
   "metadata": {
    "scrolled": true
   },
   "outputs": [],
   "source": [
    "#\"country\"列の削除\n",
    "data.drop(columns=[\"country\"], inplace=True)"
   ]
  },
  {
   "cell_type": "code",
   "execution_count": 16,
   "metadata": {
    "scrolled": true
   },
   "outputs": [
    {
     "data": {
      "text/html": [
       "<div>\n",
       "<style scoped>\n",
       "    .dataframe tbody tr th:only-of-type {\n",
       "        vertical-align: middle;\n",
       "    }\n",
       "\n",
       "    .dataframe tbody tr th {\n",
       "        vertical-align: top;\n",
       "    }\n",
       "\n",
       "    .dataframe thead th {\n",
       "        text-align: right;\n",
       "    }\n",
       "</style>\n",
       "<table border=\"1\" class=\"dataframe\">\n",
       "  <thead>\n",
       "    <tr style=\"text-align: right;\">\n",
       "      <th></th>\n",
       "      <th>category</th>\n",
       "      <th>main_category</th>\n",
       "      <th>currency</th>\n",
       "      <th>deadline</th>\n",
       "      <th>goal</th>\n",
       "      <th>launched</th>\n",
       "      <th>state</th>\n",
       "      <th>backers</th>\n",
       "      <th>usd_goal_real</th>\n",
       "    </tr>\n",
       "    <tr>\n",
       "      <th>ID</th>\n",
       "      <th></th>\n",
       "      <th></th>\n",
       "      <th></th>\n",
       "      <th></th>\n",
       "      <th></th>\n",
       "      <th></th>\n",
       "      <th></th>\n",
       "      <th></th>\n",
       "      <th></th>\n",
       "    </tr>\n",
       "  </thead>\n",
       "  <tbody>\n",
       "    <tr>\n",
       "      <th>1000002330</th>\n",
       "      <td>Poetry</td>\n",
       "      <td>Publishing</td>\n",
       "      <td>GBP</td>\n",
       "      <td>2015-10-09</td>\n",
       "      <td>1000.0</td>\n",
       "      <td>2015-08-11 12:12:28</td>\n",
       "      <td>failed</td>\n",
       "      <td>0</td>\n",
       "      <td>1533.95</td>\n",
       "    </tr>\n",
       "    <tr>\n",
       "      <th>1000003930</th>\n",
       "      <td>Narrative Film</td>\n",
       "      <td>Film &amp; Video</td>\n",
       "      <td>USD</td>\n",
       "      <td>2017-11-01</td>\n",
       "      <td>30000.0</td>\n",
       "      <td>2017-09-02 04:43:57</td>\n",
       "      <td>failed</td>\n",
       "      <td>15</td>\n",
       "      <td>30000.00</td>\n",
       "    </tr>\n",
       "    <tr>\n",
       "      <th>1000004038</th>\n",
       "      <td>Narrative Film</td>\n",
       "      <td>Film &amp; Video</td>\n",
       "      <td>USD</td>\n",
       "      <td>2013-02-26</td>\n",
       "      <td>45000.0</td>\n",
       "      <td>2013-01-12 00:20:50</td>\n",
       "      <td>failed</td>\n",
       "      <td>3</td>\n",
       "      <td>45000.00</td>\n",
       "    </tr>\n",
       "    <tr>\n",
       "      <th>1000007540</th>\n",
       "      <td>Music</td>\n",
       "      <td>Music</td>\n",
       "      <td>USD</td>\n",
       "      <td>2012-04-16</td>\n",
       "      <td>5000.0</td>\n",
       "      <td>2012-03-17 03:24:11</td>\n",
       "      <td>failed</td>\n",
       "      <td>1</td>\n",
       "      <td>5000.00</td>\n",
       "    </tr>\n",
       "    <tr>\n",
       "      <th>1000014025</th>\n",
       "      <td>Restaurants</td>\n",
       "      <td>Food</td>\n",
       "      <td>USD</td>\n",
       "      <td>2016-04-01</td>\n",
       "      <td>50000.0</td>\n",
       "      <td>2016-02-26 13:38:27</td>\n",
       "      <td>successful</td>\n",
       "      <td>224</td>\n",
       "      <td>50000.00</td>\n",
       "    </tr>\n",
       "  </tbody>\n",
       "</table>\n",
       "</div>"
      ],
      "text/plain": [
       "                  category main_category currency    deadline     goal  \\\n",
       "ID                                                                       \n",
       "1000002330          Poetry    Publishing      GBP  2015-10-09   1000.0   \n",
       "1000003930  Narrative Film  Film & Video      USD  2017-11-01  30000.0   \n",
       "1000004038  Narrative Film  Film & Video      USD  2013-02-26  45000.0   \n",
       "1000007540           Music         Music      USD  2012-04-16   5000.0   \n",
       "1000014025     Restaurants          Food      USD  2016-04-01  50000.0   \n",
       "\n",
       "                       launched       state  backers  usd_goal_real  \n",
       "ID                                                                   \n",
       "1000002330  2015-08-11 12:12:28      failed        0        1533.95  \n",
       "1000003930  2017-09-02 04:43:57      failed       15       30000.00  \n",
       "1000004038  2013-01-12 00:20:50      failed        3       45000.00  \n",
       "1000007540  2012-03-17 03:24:11      failed        1        5000.00  \n",
       "1000014025  2016-02-26 13:38:27  successful      224       50000.00  "
      ]
     },
     "execution_count": 16,
     "metadata": {},
     "output_type": "execute_result"
    }
   ],
   "source": [
    "data.head()"
   ]
  },
  {
   "cell_type": "code",
   "execution_count": 17,
   "metadata": {
    "scrolled": true
   },
   "outputs": [
    {
     "data": {
      "text/plain": [
       "state       currency\n",
       "failed      USD         0.769485\n",
       "            GBP         0.087985\n",
       "            EUR         0.053028\n",
       "            CAD         0.041677\n",
       "            AUD         0.023308\n",
       "            MXN         0.005136\n",
       "            SEK         0.005060\n",
       "            NZD         0.004180\n",
       "            DKK         0.002864\n",
       "            CHF         0.002353\n",
       "            NOK         0.002125\n",
       "            SGD         0.001397\n",
       "            HKD         0.001321\n",
       "            JPY         0.000081\n",
       "successful  USD         0.816572\n",
       "            GBP         0.090152\n",
       "            CAD         0.030885\n",
       "            EUR         0.028973\n",
       "            AUD         0.015017\n",
       "            SEK         0.003803\n",
       "            NZD         0.003347\n",
       "            MXN         0.002959\n",
       "            DKK         0.002690\n",
       "            HKD         0.001614\n",
       "            CHF         0.001397\n",
       "            SGD         0.001330\n",
       "            NOK         0.001210\n",
       "            JPY         0.000052\n",
       "Name: currency, dtype: float64"
      ]
     },
     "metadata": {},
     "output_type": "display_data"
    },
    {
     "data": {
      "image/png": "[encoded data removed]",
      "text/plain": [
       "<Figure size 432x288 with 1 Axes>"
      ]
     },
     "metadata": {
      "needs_background": "light"
     },
     "output_type": "display_data"
    }
   ],
   "source": [
    "#成功, 失敗別の通貨単位の内訳の可視化\n",
    "ret = data.groupby(\"state\")[\"currency\"].value_counts(normalize=True)\n",
    "display(ret)\n",
    "ret.unstack().plot.bar()\n",
    "plt.show()"
   ]
  },
  {
   "cell_type": "code",
   "execution_count": 18,
   "metadata": {
    "scrolled": true
   },
   "outputs": [
    {
     "data": {
      "text/plain": [
       "state       category         \n",
       "failed      Product Design       0.054237\n",
       "            Documentary          0.043514\n",
       "            Food                 0.036025\n",
       "            Video Games          0.035129\n",
       "            Music                0.031096\n",
       "            Fiction              0.029730\n",
       "            Film & Video         0.028045\n",
       "            Fashion              0.027027\n",
       "            Nonfiction           0.026233\n",
       "            Apps                 0.024841\n",
       "            Apparel              0.024042\n",
       "            Shorts               0.023890\n",
       "            Technology           0.022296\n",
       "            Art                  0.020753\n",
       "            Tabletop Games       0.019624\n",
       "            Web                  0.019563\n",
       "            Children's Books     0.019482\n",
       "            Webseries            0.017458\n",
       "            Publishing           0.017104\n",
       "            Photography          0.017053\n",
       "            Crafts               0.015131\n",
       "            Hip-Hop              0.014457\n",
       "            Rock                 0.013896\n",
       "            Narrative Film       0.013182\n",
       "            Theater              0.011533\n",
       "            Software             0.011143\n",
       "            Design               0.010799\n",
       "            Comics               0.010500\n",
       "            Restaurants          0.010434\n",
       "            Hardware             0.009660\n",
       "                                   ...   \n",
       "successful  Farmer's Markets     0.000523\n",
       "            Community Gardens    0.000493\n",
       "            Fabrication Tools    0.000493\n",
       "            Family               0.000493\n",
       "            Animals              0.000471\n",
       "            Typography           0.000471\n",
       "            Candles              0.000411\n",
       "            Romance              0.000411\n",
       "            Movie Theaters       0.000388\n",
       "            Video                0.000381\n",
       "            Video Art            0.000381\n",
       "            Residencies          0.000374\n",
       "            Workshops            0.000374\n",
       "            Printing             0.000366\n",
       "            Pottery              0.000329\n",
       "            Couture              0.000314\n",
       "            Bacon                0.000284\n",
       "            Glass                0.000284\n",
       "            Latin                0.000284\n",
       "            Pet Fashion          0.000276\n",
       "            Crochet              0.000261\n",
       "            Translations         0.000261\n",
       "            Photo                0.000239\n",
       "            Letterpress          0.000232\n",
       "            Chiptune             0.000202\n",
       "            Weaving              0.000202\n",
       "            Embroidery           0.000142\n",
       "            Quilts               0.000142\n",
       "            Literary Spaces      0.000097\n",
       "            Taxidermy            0.000037\n",
       "Name: category, Length: 318, dtype: float64"
      ]
     },
     "metadata": {},
     "output_type": "display_data"
    },
    {
     "data": {
      "image/png": "[encoded data removed]",
      "text/plain": [
       "<Figure size 432x288 with 1 Axes>"
      ]
     },
     "metadata": {
      "needs_background": "light"
     },
     "output_type": "display_data"
    }
   ],
   "source": [
    "#成功, 失敗別のカテゴリの内訳の可視化\n",
    "ret = data.groupby(\"state\")[\"category\"].value_counts(normalize=True)\n",
    "display(ret)\n",
    "ret.unstack().plot.bar()\n",
    "plt.show()"
   ]
  },
  {
   "cell_type": "code",
   "execution_count": 19,
   "metadata": {
    "scrolled": true
   },
   "outputs": [
    {
     "data": {
      "text/plain": [
       "state       main_category\n",
       "failed      Film & Video     0.166446\n",
       "            Publishing       0.116960\n",
       "            Music            0.109790\n",
       "            Technology       0.104309\n",
       "            Games            0.080981\n",
       "            Food             0.080809\n",
       "            Design           0.074964\n",
       "            Fashion          0.071761\n",
       "            Art              0.071508\n",
       "            Photography      0.032305\n",
       "            Crafts           0.028859\n",
       "            Comics           0.020424\n",
       "            Theater          0.018764\n",
       "            Journalism       0.015869\n",
       "            Dance            0.006250\n",
       "successful  Music            0.180088\n",
       "            Film & Video     0.176405\n",
       "            Games            0.093522\n",
       "            Publishing       0.091893\n",
       "            Art              0.085991\n",
       "            Design           0.078812\n",
       "            Theater          0.048815\n",
       "            Technology       0.048061\n",
       "            Food             0.045461\n",
       "            Comics           0.043646\n",
       "            Fashion          0.041785\n",
       "            Photography      0.024692\n",
       "            Dance            0.017467\n",
       "            Crafts           0.015801\n",
       "            Journalism       0.007561\n",
       "Name: main_category, dtype: float64"
      ]
     },
     "metadata": {},
     "output_type": "display_data"
    },
    {
     "data": {
      "image/png": "[encoded data removed]",
      "text/plain": [
       "<Figure size 432x288 with 1 Axes>"
      ]
     },
     "metadata": {
      "needs_background": "light"
     },
     "output_type": "display_data"
    }
   ],
   "source": [
    "#成功, 失敗別のメインカテゴリの内訳の可視化\n",
    "ret = data.groupby(\"state\")[\"main_category\"].value_counts(normalize=True)\n",
    "display(ret)\n",
    "ret.unstack().plot.bar()\n",
    "plt.show()"
   ]
  },
  {
   "cell_type": "code",
   "execution_count": 20,
   "metadata": {
    "scrolled": true
   },
   "outputs": [],
   "source": [
    "# \"main_category\", \"currency\"列の削除\n",
    "data.drop(columns=[\"main_category\", \"currency\"],  inplace=True)"
   ]
  },
  {
   "cell_type": "code",
   "execution_count": 21,
   "metadata": {
    "scrolled": true
   },
   "outputs": [
    {
     "data": {
      "text/html": [
       "<div>\n",
       "<style scoped>\n",
       "    .dataframe tbody tr th:only-of-type {\n",
       "        vertical-align: middle;\n",
       "    }\n",
       "\n",
       "    .dataframe tbody tr th {\n",
       "        vertical-align: top;\n",
       "    }\n",
       "\n",
       "    .dataframe thead th {\n",
       "        text-align: right;\n",
       "    }\n",
       "</style>\n",
       "<table border=\"1\" class=\"dataframe\">\n",
       "  <thead>\n",
       "    <tr style=\"text-align: right;\">\n",
       "      <th></th>\n",
       "      <th>category</th>\n",
       "      <th>deadline</th>\n",
       "      <th>goal</th>\n",
       "      <th>launched</th>\n",
       "      <th>state</th>\n",
       "      <th>backers</th>\n",
       "      <th>usd_goal_real</th>\n",
       "    </tr>\n",
       "    <tr>\n",
       "      <th>ID</th>\n",
       "      <th></th>\n",
       "      <th></th>\n",
       "      <th></th>\n",
       "      <th></th>\n",
       "      <th></th>\n",
       "      <th></th>\n",
       "      <th></th>\n",
       "    </tr>\n",
       "  </thead>\n",
       "  <tbody>\n",
       "    <tr>\n",
       "      <th>1000002330</th>\n",
       "      <td>Poetry</td>\n",
       "      <td>2015-10-09</td>\n",
       "      <td>1000.0</td>\n",
       "      <td>2015-08-11 12:12:28</td>\n",
       "      <td>failed</td>\n",
       "      <td>0</td>\n",
       "      <td>1533.95</td>\n",
       "    </tr>\n",
       "    <tr>\n",
       "      <th>1000003930</th>\n",
       "      <td>Narrative Film</td>\n",
       "      <td>2017-11-01</td>\n",
       "      <td>30000.0</td>\n",
       "      <td>2017-09-02 04:43:57</td>\n",
       "      <td>failed</td>\n",
       "      <td>15</td>\n",
       "      <td>30000.00</td>\n",
       "    </tr>\n",
       "    <tr>\n",
       "      <th>1000004038</th>\n",
       "      <td>Narrative Film</td>\n",
       "      <td>2013-02-26</td>\n",
       "      <td>45000.0</td>\n",
       "      <td>2013-01-12 00:20:50</td>\n",
       "      <td>failed</td>\n",
       "      <td>3</td>\n",
       "      <td>45000.00</td>\n",
       "    </tr>\n",
       "    <tr>\n",
       "      <th>1000007540</th>\n",
       "      <td>Music</td>\n",
       "      <td>2012-04-16</td>\n",
       "      <td>5000.0</td>\n",
       "      <td>2012-03-17 03:24:11</td>\n",
       "      <td>failed</td>\n",
       "      <td>1</td>\n",
       "      <td>5000.00</td>\n",
       "    </tr>\n",
       "    <tr>\n",
       "      <th>1000014025</th>\n",
       "      <td>Restaurants</td>\n",
       "      <td>2016-04-01</td>\n",
       "      <td>50000.0</td>\n",
       "      <td>2016-02-26 13:38:27</td>\n",
       "      <td>successful</td>\n",
       "      <td>224</td>\n",
       "      <td>50000.00</td>\n",
       "    </tr>\n",
       "  </tbody>\n",
       "</table>\n",
       "</div>"
      ],
      "text/plain": [
       "                  category    deadline     goal             launched  \\\n",
       "ID                                                                     \n",
       "1000002330          Poetry  2015-10-09   1000.0  2015-08-11 12:12:28   \n",
       "1000003930  Narrative Film  2017-11-01  30000.0  2017-09-02 04:43:57   \n",
       "1000004038  Narrative Film  2013-02-26  45000.0  2013-01-12 00:20:50   \n",
       "1000007540           Music  2012-04-16   5000.0  2012-03-17 03:24:11   \n",
       "1000014025     Restaurants  2016-04-01  50000.0  2016-02-26 13:38:27   \n",
       "\n",
       "                 state  backers  usd_goal_real  \n",
       "ID                                              \n",
       "1000002330      failed        0        1533.95  \n",
       "1000003930      failed       15       30000.00  \n",
       "1000004038      failed        3       45000.00  \n",
       "1000007540      failed        1        5000.00  \n",
       "1000014025  successful      224       50000.00  "
      ]
     },
     "execution_count": 21,
     "metadata": {},
     "output_type": "execute_result"
    }
   ],
   "source": [
    "data.head()"
   ]
  },
  {
   "cell_type": "code",
   "execution_count": 22,
   "metadata": {
    "scrolled": true
   },
   "outputs": [
    {
     "name": "stdout",
     "output_type": "stream",
     "text": [
      "<class 'pandas.core.frame.DataFrame'>\n",
      "Int64Index: 331465 entries, 1000002330 to 999988282\n",
      "Data columns (total 2 columns):\n",
      "deadline    331465 non-null object\n",
      "launched    331465 non-null object\n",
      "dtypes: object(2)\n",
      "memory usage: 7.6+ MB\n"
     ]
    }
   ],
   "source": [
    "data[['deadline','launched']].info()"
   ]
  },
  {
   "cell_type": "code",
   "execution_count": 23,
   "metadata": {},
   "outputs": [
    {
     "name": "stdout",
     "output_type": "stream",
     "text": [
      "<class 'pandas.core.frame.DataFrame'>\n",
      "Int64Index: 331465 entries, 1000002330 to 999988282\n",
      "Data columns (total 2 columns):\n",
      "deadline    331465 non-null datetime64[ns]\n",
      "launched    331465 non-null datetime64[ns]\n",
      "dtypes: datetime64[ns](2)\n",
      "memory usage: 7.6 MB\n"
     ]
    }
   ],
   "source": [
    "# \"deadline\"と\"launched\"列の型をdatetime64に変換\n",
    "data = data.astype({'deadline':'datetime64',\n",
    "                'launched':'datetime64'\n",
    "               }\n",
    "              )\n",
    "data[['deadline','launched']].info()"
   ]
  },
  {
   "cell_type": "code",
   "execution_count": 24,
   "metadata": {
    "scrolled": true
   },
   "outputs": [
    {
     "data": {
      "text/html": [
       "<div>\n",
       "<style scoped>\n",
       "    .dataframe tbody tr th:only-of-type {\n",
       "        vertical-align: middle;\n",
       "    }\n",
       "\n",
       "    .dataframe tbody tr th {\n",
       "        vertical-align: top;\n",
       "    }\n",
       "\n",
       "    .dataframe thead th {\n",
       "        text-align: right;\n",
       "    }\n",
       "</style>\n",
       "<table border=\"1\" class=\"dataframe\">\n",
       "  <thead>\n",
       "    <tr style=\"text-align: right;\">\n",
       "      <th></th>\n",
       "      <th>deadline</th>\n",
       "      <th>launched</th>\n",
       "    </tr>\n",
       "    <tr>\n",
       "      <th>ID</th>\n",
       "      <th></th>\n",
       "      <th></th>\n",
       "    </tr>\n",
       "  </thead>\n",
       "  <tbody>\n",
       "    <tr>\n",
       "      <th>1000002330</th>\n",
       "      <td>2015-10-09</td>\n",
       "      <td>2015-08-11 12:12:28</td>\n",
       "    </tr>\n",
       "    <tr>\n",
       "      <th>1000003930</th>\n",
       "      <td>2017-11-01</td>\n",
       "      <td>2017-09-02 04:43:57</td>\n",
       "    </tr>\n",
       "    <tr>\n",
       "      <th>1000004038</th>\n",
       "      <td>2013-02-26</td>\n",
       "      <td>2013-01-12 00:20:50</td>\n",
       "    </tr>\n",
       "    <tr>\n",
       "      <th>1000007540</th>\n",
       "      <td>2012-04-16</td>\n",
       "      <td>2012-03-17 03:24:11</td>\n",
       "    </tr>\n",
       "    <tr>\n",
       "      <th>1000014025</th>\n",
       "      <td>2016-04-01</td>\n",
       "      <td>2016-02-26 13:38:27</td>\n",
       "    </tr>\n",
       "  </tbody>\n",
       "</table>\n",
       "</div>"
      ],
      "text/plain": [
       "             deadline            launched\n",
       "ID                                       \n",
       "1000002330 2015-10-09 2015-08-11 12:12:28\n",
       "1000003930 2017-11-01 2017-09-02 04:43:57\n",
       "1000004038 2013-02-26 2013-01-12 00:20:50\n",
       "1000007540 2012-04-16 2012-03-17 03:24:11\n",
       "1000014025 2016-04-01 2016-02-26 13:38:27"
      ]
     },
     "metadata": {},
     "output_type": "display_data"
    },
    {
     "name": "stdout",
     "output_type": "stream",
     "text": [
      "ID\n",
      "1000002330   58 days 11:47:32\n",
      "1000003930   59 days 19:16:03\n",
      "1000004038   44 days 23:39:10\n",
      "1000007540   29 days 20:35:49\n",
      "1000014025   34 days 10:21:33\n",
      "1000023410   19 days 05:29:16\n",
      "1000030581   44 days 03:54:48\n",
      "100004721    29 days 05:40:23\n",
      "100005484    29 days 17:17:02\n",
      "1000055792   29 days 06:48:10\n",
      "1000056157   44 days 00:58:48\n",
      "1000057089   27 days 04:15:42\n",
      "1000064368   29 days 21:49:07\n",
      "1000064918   29 days 01:32:08\n",
      "1000068480   29 days 02:39:06\n",
      "1000070642   14 days 09:48:28\n",
      "1000071625   29 days 06:35:28\n",
      "1000072011   34 days 16:53:49\n",
      "1000081649   29 days 22:39:40\n",
      "1000082254   29 days 13:49:22\n",
      "1000087442   29 days 04:42:27\n",
      "1000091520   19 days 06:44:10\n",
      "1000102741   29 days 00:43:10\n",
      "1000103948   29 days 03:50:54\n",
      "1000104688   29 days 05:58:00\n",
      "1000104953   29 days 07:00:31\n",
      "100011318    29 days 06:48:27\n",
      "1000115172   29 days 05:53:28\n",
      "1000117861   30 days 10:45:34\n",
      "1000120151   29 days 20:50:17\n",
      "                   ...       \n",
      "999801508    29 days 22:41:06\n",
      "999811847    14 days 01:53:16\n",
      "999814706    29 days 22:52:40\n",
      "999814955    29 days 10:31:48\n",
      "999829547    29 days 14:26:52\n",
      "999832803    29 days 04:06:10\n",
      "99984851     29 days 00:09:26\n",
      "999865831    29 days 06:43:43\n",
      "999867839    60 days 21:16:01\n",
      "99987261     29 days 01:22:46\n",
      "999877902    29 days 06:09:48\n",
      "999878813    44 days 17:02:32\n",
      "999880710    30 days 21:49:21\n",
      "999884445    29 days 10:55:46\n",
      "99991751     59 days 05:59:13\n",
      "999929142    26 days 12:33:16\n",
      "999934908    21 days 16:26:46\n",
      "999941823    29 days 01:14:34\n",
      "999943841    42 days 02:24:56\n",
      "999950812    29 days 06:49:00\n",
      "999963618    59 days 21:31:16\n",
      "99996661     37 days 08:23:31\n",
      "999969812    29 days 22:59:44\n",
      "999971898    29 days 02:29:27\n",
      "999972264    29 days 19:28:50\n",
      "999975836    29 days 01:51:38\n",
      "999977640    26 days 20:24:46\n",
      "999986353    45 days 04:19:30\n",
      "999987933    30 days 05:46:07\n",
      "999988282    27 days 14:52:13\n",
      "Length: 331465, dtype: timedelta64[ns]\n"
     ]
    }
   ],
   "source": [
    "# 期限の計算\n",
    "display(data[['deadline','launched']].head())\n",
    "time_to_deadline = data[\"deadline\"] - data[\"launched\"]\n",
    "print(time_to_deadline)"
   ]
  },
  {
   "cell_type": "code",
   "execution_count": 25,
   "metadata": {
    "scrolled": false
   },
   "outputs": [
    {
     "data": {
      "text/html": [
       "<div>\n",
       "<style scoped>\n",
       "    .dataframe tbody tr th:only-of-type {\n",
       "        vertical-align: middle;\n",
       "    }\n",
       "\n",
       "    .dataframe tbody tr th {\n",
       "        vertical-align: top;\n",
       "    }\n",
       "\n",
       "    .dataframe thead th {\n",
       "        text-align: right;\n",
       "    }\n",
       "</style>\n",
       "<table border=\"1\" class=\"dataframe\">\n",
       "  <thead>\n",
       "    <tr style=\"text-align: right;\">\n",
       "      <th></th>\n",
       "      <th>category</th>\n",
       "      <th>deadline</th>\n",
       "      <th>goal</th>\n",
       "      <th>launched</th>\n",
       "      <th>state</th>\n",
       "      <th>backers</th>\n",
       "      <th>usd_goal_real</th>\n",
       "      <th>days_to_deadline</th>\n",
       "    </tr>\n",
       "    <tr>\n",
       "      <th>ID</th>\n",
       "      <th></th>\n",
       "      <th></th>\n",
       "      <th></th>\n",
       "      <th></th>\n",
       "      <th></th>\n",
       "      <th></th>\n",
       "      <th></th>\n",
       "      <th></th>\n",
       "    </tr>\n",
       "  </thead>\n",
       "  <tbody>\n",
       "    <tr>\n",
       "      <th>1000002330</th>\n",
       "      <td>Poetry</td>\n",
       "      <td>2015-10-09</td>\n",
       "      <td>1000.0</td>\n",
       "      <td>2015-08-11 12:12:28</td>\n",
       "      <td>failed</td>\n",
       "      <td>0</td>\n",
       "      <td>1533.95</td>\n",
       "      <td>58</td>\n",
       "    </tr>\n",
       "    <tr>\n",
       "      <th>1000003930</th>\n",
       "      <td>Narrative Film</td>\n",
       "      <td>2017-11-01</td>\n",
       "      <td>30000.0</td>\n",
       "      <td>2017-09-02 04:43:57</td>\n",
       "      <td>failed</td>\n",
       "      <td>15</td>\n",
       "      <td>30000.00</td>\n",
       "      <td>59</td>\n",
       "    </tr>\n",
       "    <tr>\n",
       "      <th>1000004038</th>\n",
       "      <td>Narrative Film</td>\n",
       "      <td>2013-02-26</td>\n",
       "      <td>45000.0</td>\n",
       "      <td>2013-01-12 00:20:50</td>\n",
       "      <td>failed</td>\n",
       "      <td>3</td>\n",
       "      <td>45000.00</td>\n",
       "      <td>44</td>\n",
       "    </tr>\n",
       "    <tr>\n",
       "      <th>1000007540</th>\n",
       "      <td>Music</td>\n",
       "      <td>2012-04-16</td>\n",
       "      <td>5000.0</td>\n",
       "      <td>2012-03-17 03:24:11</td>\n",
       "      <td>failed</td>\n",
       "      <td>1</td>\n",
       "      <td>5000.00</td>\n",
       "      <td>29</td>\n",
       "    </tr>\n",
       "    <tr>\n",
       "      <th>1000014025</th>\n",
       "      <td>Restaurants</td>\n",
       "      <td>2016-04-01</td>\n",
       "      <td>50000.0</td>\n",
       "      <td>2016-02-26 13:38:27</td>\n",
       "      <td>successful</td>\n",
       "      <td>224</td>\n",
       "      <td>50000.00</td>\n",
       "      <td>34</td>\n",
       "    </tr>\n",
       "  </tbody>\n",
       "</table>\n",
       "</div>"
      ],
      "text/plain": [
       "                  category   deadline     goal            launched  \\\n",
       "ID                                                                   \n",
       "1000002330          Poetry 2015-10-09   1000.0 2015-08-11 12:12:28   \n",
       "1000003930  Narrative Film 2017-11-01  30000.0 2017-09-02 04:43:57   \n",
       "1000004038  Narrative Film 2013-02-26  45000.0 2013-01-12 00:20:50   \n",
       "1000007540           Music 2012-04-16   5000.0 2012-03-17 03:24:11   \n",
       "1000014025     Restaurants 2016-04-01  50000.0 2016-02-26 13:38:27   \n",
       "\n",
       "                 state  backers  usd_goal_real  days_to_deadline  \n",
       "ID                                                                \n",
       "1000002330      failed        0        1533.95                58  \n",
       "1000003930      failed       15       30000.00                59  \n",
       "1000004038      failed        3       45000.00                44  \n",
       "1000007540      failed        1        5000.00                29  \n",
       "1000014025  successful      224       50000.00                34  "
      ]
     },
     "execution_count": 25,
     "metadata": {},
     "output_type": "execute_result"
    }
   ],
   "source": [
    "# 新しい特徴量\"days_to_deadline\"の追加\n",
    "data[\"days_to_deadline\"] = time_to_deadline.dt.days\n",
    "data.head()"
   ]
  },
  {
   "cell_type": "code",
   "execution_count": 26,
   "metadata": {},
   "outputs": [],
   "source": [
    "# \"deadline\", \"launched\"列の削除\n",
    "data.drop(columns=[\"deadline\", \"launched\"], inplace=True)"
   ]
  },
  {
   "cell_type": "code",
   "execution_count": 27,
   "metadata": {
    "scrolled": true
   },
   "outputs": [
    {
     "data": {
      "text/plain": [
       "state       days_to_deadline\n",
       "failed      (20.0, 40.0]        0.683838\n",
       "            (40.0, 60.0]        0.218411\n",
       "            (0.999, 20.0]       0.084554\n",
       "            (80.0, 100.0]       0.008638\n",
       "            (60.0, 80.0]        0.004271\n",
       "successful  (20.0, 40.0]        0.710566\n",
       "            (40.0, 60.0]        0.140133\n",
       "            (0.999, 20.0]       0.137197\n",
       "            (80.0, 100.0]       0.006418\n",
       "            (60.0, 80.0]        0.005424\n",
       "Name: days_to_deadline, dtype: float64"
      ]
     },
     "metadata": {},
     "output_type": "display_data"
    },
    {
     "data": {
      "image/png": "[encoded data removed]",
      "text/plain": [
       "<Figure size 432x288 with 1 Axes>"
      ]
     },
     "metadata": {
      "needs_background": "light"
     },
     "output_type": "display_data"
    }
   ],
   "source": [
    "# 成功, 失敗別の期限の内訳の可視化\n",
    "ret = data.groupby(\"state\")[\"days_to_deadline\"].value_counts(bins=[1,20,40,60,80,100], normalize=True)\n",
    "display(ret)\n",
    "ret.unstack().plot.bar()\n",
    "plt.show()"
   ]
  },
  {
   "cell_type": "code",
   "execution_count": 28,
   "metadata": {
    "scrolled": false
   },
   "outputs": [
    {
     "data": {
      "text/html": [
       "<div>\n",
       "<style scoped>\n",
       "    .dataframe tbody tr th:only-of-type {\n",
       "        vertical-align: middle;\n",
       "    }\n",
       "\n",
       "    .dataframe tbody tr th {\n",
       "        vertical-align: top;\n",
       "    }\n",
       "\n",
       "    .dataframe thead th {\n",
       "        text-align: right;\n",
       "    }\n",
       "</style>\n",
       "<table border=\"1\" class=\"dataframe\">\n",
       "  <thead>\n",
       "    <tr style=\"text-align: right;\">\n",
       "      <th></th>\n",
       "      <th>category</th>\n",
       "      <th>goal</th>\n",
       "      <th>state</th>\n",
       "      <th>backers</th>\n",
       "      <th>usd_goal_real</th>\n",
       "    </tr>\n",
       "    <tr>\n",
       "      <th>ID</th>\n",
       "      <th></th>\n",
       "      <th></th>\n",
       "      <th></th>\n",
       "      <th></th>\n",
       "      <th></th>\n",
       "    </tr>\n",
       "  </thead>\n",
       "  <tbody>\n",
       "    <tr>\n",
       "      <th>1000002330</th>\n",
       "      <td>Poetry</td>\n",
       "      <td>1000.0</td>\n",
       "      <td>failed</td>\n",
       "      <td>0</td>\n",
       "      <td>1533.95</td>\n",
       "    </tr>\n",
       "    <tr>\n",
       "      <th>1000003930</th>\n",
       "      <td>Narrative Film</td>\n",
       "      <td>30000.0</td>\n",
       "      <td>failed</td>\n",
       "      <td>15</td>\n",
       "      <td>30000.00</td>\n",
       "    </tr>\n",
       "    <tr>\n",
       "      <th>1000004038</th>\n",
       "      <td>Narrative Film</td>\n",
       "      <td>45000.0</td>\n",
       "      <td>failed</td>\n",
       "      <td>3</td>\n",
       "      <td>45000.00</td>\n",
       "    </tr>\n",
       "    <tr>\n",
       "      <th>1000007540</th>\n",
       "      <td>Music</td>\n",
       "      <td>5000.0</td>\n",
       "      <td>failed</td>\n",
       "      <td>1</td>\n",
       "      <td>5000.00</td>\n",
       "    </tr>\n",
       "    <tr>\n",
       "      <th>1000014025</th>\n",
       "      <td>Restaurants</td>\n",
       "      <td>50000.0</td>\n",
       "      <td>successful</td>\n",
       "      <td>224</td>\n",
       "      <td>50000.00</td>\n",
       "    </tr>\n",
       "  </tbody>\n",
       "</table>\n",
       "</div>"
      ],
      "text/plain": [
       "                  category     goal       state  backers  usd_goal_real\n",
       "ID                                                                     \n",
       "1000002330          Poetry   1000.0      failed        0        1533.95\n",
       "1000003930  Narrative Film  30000.0      failed       15       30000.00\n",
       "1000004038  Narrative Film  45000.0      failed        3       45000.00\n",
       "1000007540           Music   5000.0      failed        1        5000.00\n",
       "1000014025     Restaurants  50000.0  successful      224       50000.00"
      ]
     },
     "execution_count": 28,
     "metadata": {},
     "output_type": "execute_result"
    }
   ],
   "source": [
    "# \"days_to_deadline\"の削除\n",
    "data.drop(columns=[\"days_to_deadline\"], inplace=True)\n",
    "data.head()"
   ]
  },
  {
   "cell_type": "code",
   "execution_count": 29,
   "metadata": {
    "scrolled": false
   },
   "outputs": [
    {
     "data": {
      "text/html": [
       "<div>\n",
       "<style scoped>\n",
       "    .dataframe tbody tr th:only-of-type {\n",
       "        vertical-align: middle;\n",
       "    }\n",
       "\n",
       "    .dataframe tbody tr th {\n",
       "        vertical-align: top;\n",
       "    }\n",
       "\n",
       "    .dataframe thead th {\n",
       "        text-align: right;\n",
       "    }\n",
       "</style>\n",
       "<table border=\"1\" class=\"dataframe\">\n",
       "  <thead>\n",
       "    <tr style=\"text-align: right;\">\n",
       "      <th></th>\n",
       "      <th>category</th>\n",
       "      <th>state</th>\n",
       "      <th>backers</th>\n",
       "      <th>usd_goal_real</th>\n",
       "    </tr>\n",
       "    <tr>\n",
       "      <th>ID</th>\n",
       "      <th></th>\n",
       "      <th></th>\n",
       "      <th></th>\n",
       "      <th></th>\n",
       "    </tr>\n",
       "  </thead>\n",
       "  <tbody>\n",
       "    <tr>\n",
       "      <th>1000002330</th>\n",
       "      <td>Poetry</td>\n",
       "      <td>failed</td>\n",
       "      <td>0</td>\n",
       "      <td>1533.95</td>\n",
       "    </tr>\n",
       "    <tr>\n",
       "      <th>1000003930</th>\n",
       "      <td>Narrative Film</td>\n",
       "      <td>failed</td>\n",
       "      <td>15</td>\n",
       "      <td>30000.00</td>\n",
       "    </tr>\n",
       "    <tr>\n",
       "      <th>1000004038</th>\n",
       "      <td>Narrative Film</td>\n",
       "      <td>failed</td>\n",
       "      <td>3</td>\n",
       "      <td>45000.00</td>\n",
       "    </tr>\n",
       "    <tr>\n",
       "      <th>1000007540</th>\n",
       "      <td>Music</td>\n",
       "      <td>failed</td>\n",
       "      <td>1</td>\n",
       "      <td>5000.00</td>\n",
       "    </tr>\n",
       "    <tr>\n",
       "      <th>1000014025</th>\n",
       "      <td>Restaurants</td>\n",
       "      <td>successful</td>\n",
       "      <td>224</td>\n",
       "      <td>50000.00</td>\n",
       "    </tr>\n",
       "  </tbody>\n",
       "</table>\n",
       "</div>"
      ],
      "text/plain": [
       "                  category       state  backers  usd_goal_real\n",
       "ID                                                            \n",
       "1000002330          Poetry      failed        0        1533.95\n",
       "1000003930  Narrative Film      failed       15       30000.00\n",
       "1000004038  Narrative Film      failed        3       45000.00\n",
       "1000007540           Music      failed        1        5000.00\n",
       "1000014025     Restaurants  successful      224       50000.00"
      ]
     },
     "execution_count": 29,
     "metadata": {},
     "output_type": "execute_result"
    }
   ],
   "source": [
    "# \"usd_goal_real\"列を学習に使うので\"goal\"列は削除\n",
    "data.drop(columns=[\"goal\"], inplace=True)\n",
    "data.head()"
   ]
  },
  {
   "cell_type": "code",
   "execution_count": 30,
   "metadata": {},
   "outputs": [
    {
     "data": {
      "text/plain": [
       "count    331465.000000\n",
       "mean        116.455315\n",
       "std         965.728598\n",
       "min           0.000000\n",
       "25%           2.000000\n",
       "50%          15.000000\n",
       "75%          63.000000\n",
       "max      219382.000000\n",
       "Name: backers, dtype: float64"
      ]
     },
     "execution_count": 30,
     "metadata": {},
     "output_type": "execute_result"
    }
   ],
   "source": [
    "data[\"backers\"].describe()"
   ]
  },
  {
   "cell_type": "code",
   "execution_count": 31,
   "metadata": {
    "scrolled": true
   },
   "outputs": [
    {
     "data": {
      "text/plain": [
       "state       backers         \n",
       "failed      (-0.001, 2.0]       0.444837\n",
       "            (2.0, 15.0]         0.343731\n",
       "            (15.0, 63.0]        0.158379\n",
       "            (63.0, 220000.0]    0.053053\n",
       "successful  (63.0, 220000.0]    0.537971\n",
       "            (15.0, 63.0]        0.372571\n",
       "            (2.0, 15.0]         0.084333\n",
       "            (-0.001, 2.0]       0.005125\n",
       "Name: backers, dtype: float64"
      ]
     },
     "metadata": {},
     "output_type": "display_data"
    },
    {
     "data": {
      "image/png": "[encoded data removed]",
      "text/plain": [
       "<Figure size 432x288 with 1 Axes>"
      ]
     },
     "metadata": {
      "needs_background": "light"
     },
     "output_type": "display_data"
    }
   ],
   "source": [
    "# 成功, 失敗別の支援者の内訳の可視化\n",
    "ret = data.groupby(\"state\")[\"backers\"].value_counts(bins=[0,2,15,63,220000], normalize=True)\n",
    "display(ret)\n",
    "ret.unstack().plot.bar()\n",
    "plt.show()"
   ]
  },
  {
   "cell_type": "code",
   "execution_count": 32,
   "metadata": {
    "scrolled": true
   },
   "outputs": [
    {
     "data": {
      "text/plain": [
       "count    3.314650e+05\n",
       "mean     4.152320e+04\n",
       "std      1.109274e+06\n",
       "min      1.000000e-02\n",
       "25%      2.000000e+03\n",
       "50%      5.000000e+03\n",
       "75%      1.500000e+04\n",
       "max      1.663614e+08\n",
       "Name: usd_goal_real, dtype: float64"
      ]
     },
     "execution_count": 32,
     "metadata": {},
     "output_type": "execute_result"
    }
   ],
   "source": [
    "data[\"usd_goal_real\"].describe()"
   ]
  },
  {
   "cell_type": "code",
   "execution_count": 33,
   "metadata": {
    "scrolled": true
   },
   "outputs": [
    {
     "data": {
      "text/plain": [
       "state       usd_goal_real         \n",
       "failed      (15000.0, 166361400.0]    0.305960\n",
       "            (5000.0, 15000.0]         0.260877\n",
       "            (2000.0, 5000.0]          0.218077\n",
       "            (-0.001, 2000.0]          0.215086\n",
       "successful  (-0.001, 2000.0]          0.350644\n",
       "            (2000.0, 5000.0]          0.263293\n",
       "            (5000.0, 15000.0]         0.244630\n",
       "            (15000.0, 166361400.0]    0.141433\n",
       "Name: usd_goal_real, dtype: float64"
      ]
     },
     "metadata": {},
     "output_type": "display_data"
    },
    {
     "data": {
      "image/png": "[encoded data removed]",
      "text/plain": [
       "<Figure size 432x288 with 1 Axes>"
      ]
     },
     "metadata": {
      "needs_background": "light"
     },
     "output_type": "display_data"
    }
   ],
   "source": [
    "# 成功, 失敗の目標金額（USドル）の内訳の可視化\n",
    "ret = data.groupby(\"state\")[\"usd_goal_real\"].value_counts(bins=[0, 2.000000e+03, 5.000000e+03, 1.500000e+04, 1.663614e+08], normalize=True)\n",
    "display(ret)\n",
    "ret.unstack().plot.bar()\n",
    "plt.show()"
   ]
  },
  {
   "cell_type": "code",
   "execution_count": 34,
   "metadata": {
    "scrolled": true
   },
   "outputs": [
    {
     "data": {
      "text/html": [
       "<div>\n",
       "<style scoped>\n",
       "    .dataframe tbody tr th:only-of-type {\n",
       "        vertical-align: middle;\n",
       "    }\n",
       "\n",
       "    .dataframe tbody tr th {\n",
       "        vertical-align: top;\n",
       "    }\n",
       "\n",
       "    .dataframe thead th {\n",
       "        text-align: right;\n",
       "    }\n",
       "</style>\n",
       "<table border=\"1\" class=\"dataframe\">\n",
       "  <thead>\n",
       "    <tr style=\"text-align: right;\">\n",
       "      <th></th>\n",
       "      <th>category</th>\n",
       "      <th>state</th>\n",
       "      <th>backers</th>\n",
       "      <th>usd_goal_real</th>\n",
       "    </tr>\n",
       "    <tr>\n",
       "      <th>ID</th>\n",
       "      <th></th>\n",
       "      <th></th>\n",
       "      <th></th>\n",
       "      <th></th>\n",
       "    </tr>\n",
       "  </thead>\n",
       "  <tbody>\n",
       "    <tr>\n",
       "      <th>1000002330</th>\n",
       "      <td>Poetry</td>\n",
       "      <td>failed</td>\n",
       "      <td>0</td>\n",
       "      <td>1533.95</td>\n",
       "    </tr>\n",
       "    <tr>\n",
       "      <th>1000003930</th>\n",
       "      <td>Narrative Film</td>\n",
       "      <td>failed</td>\n",
       "      <td>15</td>\n",
       "      <td>30000.00</td>\n",
       "    </tr>\n",
       "    <tr>\n",
       "      <th>1000004038</th>\n",
       "      <td>Narrative Film</td>\n",
       "      <td>failed</td>\n",
       "      <td>3</td>\n",
       "      <td>45000.00</td>\n",
       "    </tr>\n",
       "    <tr>\n",
       "      <th>1000007540</th>\n",
       "      <td>Music</td>\n",
       "      <td>failed</td>\n",
       "      <td>1</td>\n",
       "      <td>5000.00</td>\n",
       "    </tr>\n",
       "    <tr>\n",
       "      <th>1000014025</th>\n",
       "      <td>Restaurants</td>\n",
       "      <td>successful</td>\n",
       "      <td>224</td>\n",
       "      <td>50000.00</td>\n",
       "    </tr>\n",
       "  </tbody>\n",
       "</table>\n",
       "</div>"
      ],
      "text/plain": [
       "                  category       state  backers  usd_goal_real\n",
       "ID                                                            \n",
       "1000002330          Poetry      failed        0        1533.95\n",
       "1000003930  Narrative Film      failed       15       30000.00\n",
       "1000004038  Narrative Film      failed        3       45000.00\n",
       "1000007540           Music      failed        1        5000.00\n",
       "1000014025     Restaurants  successful      224       50000.00"
      ]
     },
     "execution_count": 34,
     "metadata": {},
     "output_type": "execute_result"
    }
   ],
   "source": [
    "data.head()"
   ]
  },
  {
   "cell_type": "code",
   "execution_count": 35,
   "metadata": {
    "scrolled": true
   },
   "outputs": [
    {
     "data": {
      "text/plain": [
       "failed        197614\n",
       "successful    133851\n",
       "Name: state, dtype: int64"
      ]
     },
     "execution_count": 35,
     "metadata": {},
     "output_type": "execute_result"
    }
   ],
   "source": [
    "data[\"state\"].value_counts()"
   ]
  },
  {
   "cell_type": "code",
   "execution_count": 36,
   "metadata": {},
   "outputs": [],
   "source": [
    "#量的変数をダミー変数化\n",
    "data = pd.get_dummies(data)"
   ]
  },
  {
   "cell_type": "code",
   "execution_count": 37,
   "metadata": {},
   "outputs": [
    {
     "data": {
      "text/plain": [
       "Index(['backers', 'usd_goal_real', 'category_3D Printing', 'category_Academic',\n",
       "       'category_Accessories', 'category_Action', 'category_Animals',\n",
       "       'category_Animation', 'category_Anthologies', 'category_Apparel',\n",
       "       ...\n",
       "       'category_Web', 'category_Webcomics', 'category_Webseries',\n",
       "       'category_Woodworking', 'category_Workshops', 'category_World Music',\n",
       "       'category_Young Adult', 'category_Zines', 'state_failed',\n",
       "       'state_successful'],\n",
       "      dtype='object', length=163)"
      ]
     },
     "metadata": {},
     "output_type": "display_data"
    },
    {
     "data": {
      "text/plain": [
       "(331465, 163)"
      ]
     },
     "metadata": {},
     "output_type": "display_data"
    }
   ],
   "source": [
    "display(data.columns)\n",
    "display(data.shape)"
   ]
  },
  {
   "cell_type": "code",
   "execution_count": 38,
   "metadata": {},
   "outputs": [],
   "source": [
    "#説明変数と目的変数に分ける\n",
    "X = data.drop(columns=[\"state_failed\", \"state_successful\"], inplace=False).values\n",
    "y = data[[\"state_successful\"]].values"
   ]
  },
  {
   "cell_type": "code",
   "execution_count": 39,
   "metadata": {},
   "outputs": [],
   "source": [
    "#ホールドアウト法を行う\n",
    "from sklearn.model_selection import train_test_split"
   ]
  },
  {
   "cell_type": "code",
   "execution_count": 40,
   "metadata": {},
   "outputs": [],
   "source": [
    "X_train, X_test, y_train, y_test = train_test_split(X, y, random_state=0)"
   ]
  },
  {
   "cell_type": "code",
   "execution_count": 41,
   "metadata": {},
   "outputs": [],
   "source": [
    "# モデルの作成（ランダムフォレスト）\n",
    "from sklearn.ensemble import RandomForestClassifier"
   ]
  },
  {
   "cell_type": "code",
   "execution_count": 42,
   "metadata": {},
   "outputs": [
    {
     "name": "stderr",
     "output_type": "stream",
     "text": [
      "/Users/imlab/anaconda3/envs/skillupAI/lib/python3.7/site-packages/ipykernel/__main__.py:3: DataConversionWarning: A column-vector y was passed when a 1d array was expected. Please change the shape of y to (n_samples,), for example using ravel().\n",
      "  app.launch_new_instance()\n"
     ]
    },
    {
     "data": {
      "text/plain": [
       "RandomForestClassifier(bootstrap=True, class_weight=None, criterion='entropy',\n",
       "            max_depth=30, max_features='auto', max_leaf_nodes=None,\n",
       "            min_impurity_decrease=0.0, min_impurity_split=None,\n",
       "            min_samples_leaf=2, min_samples_split=2,\n",
       "            min_weight_fraction_leaf=0.0, n_estimators=100, n_jobs=None,\n",
       "            oob_score=False, random_state=1234, verbose=0,\n",
       "            warm_start=False)"
      ]
     },
     "execution_count": 42,
     "metadata": {},
     "output_type": "execute_result"
    }
   ],
   "source": [
    "clf = RandomForestClassifier(n_estimators=100, max_depth=30, criterion=\"entropy\",\n",
    "                                                 min_samples_leaf=2, min_samples_split=2, random_state=1234)\n",
    "clf.fit(X_train, y_train)"
   ]
  },
  {
   "cell_type": "code",
   "execution_count": 43,
   "metadata": {},
   "outputs": [],
   "source": [
    "#モデルの評価\n",
    "from sklearn.metrics import confusion_matrix"
   ]
  },
  {
   "cell_type": "code",
   "execution_count": 44,
   "metadata": {},
   "outputs": [
    {
     "name": "stdout",
     "output_type": "stream",
     "text": [
      "Accuracy  = 94.074%\n",
      "Recall    = 94.129%\n",
      "Precision = 91.437%\n"
     ]
    }
   ],
   "source": [
    "#訓練データの正答率, 再現率、適合率\n",
    "y_est = clf.predict(X_train)\n",
    "tn, fp, fn, tp = confusion_matrix(y_train, y_est).ravel()\n",
    "print('Accuracy  = {:.3f}%'.format(100 * (tn+tp)/(tn+fp+fn+tp)))\n",
    "print('Recall    = {:.3f}%'.format(100 * (tp)/(fn+tp)))\n",
    "print('Precision = {:.3f}%'.format(100 * (tp)/(fp+tp))) "
   ]
  },
  {
   "cell_type": "code",
   "execution_count": 45,
   "metadata": {},
   "outputs": [
    {
     "name": "stdout",
     "output_type": "stream",
     "text": [
      "Accuracy  = 92.855%\n",
      "Recall    = 92.763%\n",
      "Precision = 89.902%\n"
     ]
    }
   ],
   "source": [
    "#汎化性能\n",
    "y_est = clf.predict(X_test)\n",
    "tn, fp, fn, tp = confusion_matrix(y_test, y_est).ravel()\n",
    "print('Accuracy  = {:.3f}%'.format(100 * (tn+tp)/(tn+fp+fn+tp)))\n",
    "print('Recall    = {:.3f}%'.format(100 * (tp)/(fn+tp)))\n",
    "print('Precision = {:.3f}%'.format(100 * (tp)/(fp+tp))) "
   ]
  },
  {
   "cell_type": "code",
   "execution_count": 46,
   "metadata": {},
   "outputs": [],
   "source": [
    "# モデルの作成　（ロジスティック回帰）\n",
    "from sklearn.linear_model import SGDClassifier"
   ]
  },
  {
   "cell_type": "code",
   "execution_count": 47,
   "metadata": {},
   "outputs": [
    {
     "name": "stderr",
     "output_type": "stream",
     "text": [
      "/Users/imlab/anaconda3/envs/skillupAI/lib/python3.7/site-packages/sklearn/linear_model/stochastic_gradient.py:183: FutureWarning: max_iter and tol parameters have been added in SGDClassifier in 0.19. If max_iter is set but tol is left unset, the default value for tol in 0.19 and 0.20 will be None (which is equivalent to -infinity, so it has no effect) but will change in 0.21 to 1e-3. Specify tol to silence this warning.\n",
      "  FutureWarning)\n",
      "/Users/imlab/anaconda3/envs/skillupAI/lib/python3.7/site-packages/sklearn/utils/validation.py:761: DataConversionWarning: A column-vector y was passed when a 1d array was expected. Please change the shape of y to (n_samples, ), for example using ravel().\n",
      "  y = column_or_1d(y, warn=True)\n"
     ]
    },
    {
     "data": {
      "text/plain": [
       "SGDClassifier(alpha=0.0001, average=False, class_weight=None,\n",
       "       early_stopping=False, epsilon=0.1, eta0=0.0, fit_intercept=True,\n",
       "       l1_ratio=0.15, learning_rate='optimal', loss='log', max_iter=10000,\n",
       "       n_iter=None, n_iter_no_change=5, n_jobs=None, penalty='none',\n",
       "       power_t=0.5, random_state=0, shuffle=True, tol=None,\n",
       "       validation_fraction=0.1, verbose=0, warm_start=False)"
      ]
     },
     "execution_count": 47,
     "metadata": {},
     "output_type": "execute_result"
    }
   ],
   "source": [
    "model = SGDClassifier(loss='log', penalty='none', max_iter=10000, fit_intercept=True, random_state=0)\n",
    "\n",
    "model.fit(X_train, y_train)"
   ]
  },
  {
   "cell_type": "code",
   "execution_count": 48,
   "metadata": {},
   "outputs": [
    {
     "name": "stdout",
     "output_type": "stream",
     "text": [
      "Accuracy  = 90.231%\n",
      "Recall    = 95.385%\n",
      "Precision = 82.959%\n"
     ]
    }
   ],
   "source": [
    "#モデルの評価\n",
    "#訓練データの正答率, 再現率、適合率\n",
    "y_est = model.predict(X_train)\n",
    "tn, fp, fn, tp = confusion_matrix(y_train, y_est).ravel()\n",
    "print('Accuracy  = {:.3f}%'.format(100 * (tn+tp)/(tn+fp+fn+tp)))\n",
    "print('Recall    = {:.3f}%'.format(100 * (tp)/(fn+tp)))\n",
    "print('Precision = {:.3f}%'.format(100 * (tp)/(fp+tp))) "
   ]
  },
  {
   "cell_type": "code",
   "execution_count": 49,
   "metadata": {},
   "outputs": [
    {
     "name": "stdout",
     "output_type": "stream",
     "text": [
      "Accuracy  = 90.331%\n",
      "Recall    = 95.584%\n",
      "Precision = 83.074%\n"
     ]
    }
   ],
   "source": [
    "#汎化性能\n",
    "y_est = model.predict(X_test)\n",
    "tn, fp, fn, tp = confusion_matrix(y_test, y_est).ravel()\n",
    "print('Accuracy  = {:.3f}%'.format(100 * (tn+tp)/(tn+fp+fn+tp)))\n",
    "print('Recall    = {:.3f}%'.format(100 * (tp)/(fn+tp)))\n",
    "print('Precision = {:.3f}%'.format(100 * (tp)/(fp+tp))) "
   ]
  },
  {
   "cell_type": "code",
   "execution_count": null,
   "metadata": {},
   "outputs": [],
   "source": []
  }
 ],
 "metadata": {
  "kernelspec": {
   "display_name": "Environment (conda_skillupai)",
   "language": "python",
   "name": "conda_skillupai"
  },
  "language_info": {
   "codemirror_mode": {
    "name": "ipython",
    "version": 3
   },
   "file_extension": ".py",
   "mimetype": "text/x-python",
   "name": "python",
   "nbconvert_exporter": "python",
   "pygments_lexer": "ipython3",
   "version": "3.7.9"
  }
 },
 "nbformat": 4,
 "nbformat_minor": 4
}
